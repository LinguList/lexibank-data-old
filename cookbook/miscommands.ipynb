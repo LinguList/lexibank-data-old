{
 "cells": [
  {
   "cell_type": "markdown",
   "metadata": {},
   "source": [
    "# Miscellaneous Commands"
   ]
  },
  {
   "cell_type": "markdown",
   "metadata": {},
   "source": [
    "This thread introduces miscellaneous useful commands from the [clldutils](https://github.com/clld/clldutils) library and other libraries regularly used in `lexibank`."
   ]
  },
  {
   "cell_type": "markdown",
   "metadata": {},
   "source": [
    "## Reading and writing unicode from and to CSV files"
   ]
  },
  {
   "cell_type": "code",
   "execution_count": 5,
   "metadata": {
    "collapsed": true
   },
   "outputs": [],
   "source": [
    "from __future__ import print_function\n",
    "from clldutils import dsv\n",
    "from clldutils.path import TemporaryDirectory"
   ]
  },
  {
   "cell_type": "code",
   "execution_count": 6,
   "metadata": {
    "collapsed": false,
    "scrolled": true
   },
   "outputs": [
    {
     "name": "stdout",
     "output_type": "stream",
     "text": [
      "0 5  Longitude\n",
      "1 5  \n",
      "2 5 1.0 97° 09' 47.66\" E\n",
      "3 5 2.0 97° 09' 47.66\" E\n",
      "4 5 3.0 97° 17' 23.79\" E\n",
      "5 5 4.0 97° 09' 40.20\" E\n",
      "6 5 5.0 97° 08' 21.35\" E\n",
      "7 5 6.0 98° 22' 47.59\" E\n",
      "8 5 7.0 98° 23' 35.25\" E\n",
      "9 5 8.0 98° 33' 23.90\" E\n",
      "10 5 9.0 99° 52' 00.54\" E\n",
      "11 5 10.0 96° 32' 44.78\" E\n",
      "12 5 11.0 99° 02' 41.07\" E\n",
      "13 5 12.0 99° 33' 27.18\" E\n",
      "14 5 13.0 98° 27' 49.18\" E\n",
      "15 5 14.0 97° 47' 46.61\" E\n",
      "16 5 15.0 98° 23' 56.68\" E\n",
      "17 5 16.0 97° 49' 11.05\" E\n"
     ]
    }
   ],
   "source": [
    "rows = []\n",
    "with dsv.UnicodeReader('../datasets/palaung/raw/data/100item-phylo.Sheet2.csv', delimiter=\",\") as reader:\n",
    "    for i, row in enumerate(reader):\n",
    "        rows.append(row)\n",
    "        print(i, len(row), row[0], row[2])"
   ]
  },
  {
   "cell_type": "code",
   "execution_count": 7,
   "metadata": {
    "collapsed": false
   },
   "outputs": [
    {
     "name": "stdout",
     "output_type": "stream",
     "text": [
      "\tLatitude\tLongitude\tName of the villages\tCountry\n",
      "\t\t\t\t\n",
      "1.0\t\"22° 57'54.23\"\" N\"\t\"97° 09' 47.66\"\" E\"\tNam Hsan\tNamhsan township, Shan State Myanmar\n",
      "2.0\t\"22° 57'54.23\"\" N\"\t\"97° 09' 47.66\"\" E\"\tKhun Hawt\tNamhsan, Shan State Myanmar\n",
      "3.0\t\"22° 40' 30.48\"\" N\"\t\"97° 17' 23.79\"\" E\"\tHtan Hsan\tHsipaw,  Shan State Myanmar\n",
      "4.0\t\"22° 40' 19.55\"\" N\"\t\"97° 09' 40.20\"\" E\"\tPang Kham\tHsipaw,  Shan State Myanmar\n",
      "5.0\t\"22° 38' 09.67\"\" N\"\t\"97° 08' 21.35\"\" E\"\tMan Loi\tHsipaw,  Shan State Myanmar\n",
      "6.0\t\"24° 17' 47.48\"\" N\"\t\"98° 22' 47.59\"\" E\"\tMeng Dan\tSantaishan, Dehong, Yunnan   China\n",
      "7.0\t\"24° 19' 51.20\"\" N\"\t\"98° 23' 35.25\"\" E\"\tChu Dong Gua\tSantaishan, Dehong, Yunnan   China\n",
      "8.0\t\"24° 19' 25.75\"\" N\"\t\"98° 33' 23.90\"\" E\"\tXiang Zhai Tang  (Xiang Cai Tang)\tMangshi, Dehong, Yunnan   China\n",
      "9.0\t\"20° 19' 17.49\"\" N\"\t\"99° 52' 00.54\"\" E\"\tPong Nuea\tMae Sai, Chiang Rai,  Thailand\n",
      "10.0\t\"20° 38' 06.09\"\" N\"\t\"96° 32' 44.78\"\" E\"\tNyaung Gone\tKalaw, Shan State   Myanmar\n",
      "11.0\t\"19° 56' 30.49\"\" N\"\t\"99° 02' 41.07\"\" E\"\tNoe Lae\tFang, Chiang Mai, Thailand\n",
      "12.0\t\"21° 18' 40.41\"\" N\"\t\"99° 33' 27.18\"\" E\"\tBan Paw\tKeng Tung, Shan State,  Myanmar\n",
      "13.0\t\"24° 18' 20.58\"\" N\"\t\"98° 27' 49.18\"\" E\"\tCha Ye Qing\tMangshi, Dehong, Yunnan   China\n",
      "14.0\t\"24° 03' 56.57\"\" N\"\t\"97° 47' 46.61\"\" E\"\tGuang Ka\tRuili, Dehong,  Yunnan, China\n",
      "15.0\t\"24° 24' 59.01\"\" N\"\t\"98° 23' 56.68\"\" E\"\tMang Bang\tLongchuan, Dehong, Yunnan, China\n",
      "16.0\t\"24° 01' 11.02\"\" N\"\t\"97° 49' 11.05\"\" E\"\tNan Sang\tRuili, Dehong,  Yunnan, China\n",
      "\n"
     ]
    }
   ],
   "source": [
    "with TemporaryDirectory() as tmp:\n",
    "    with dsv.UnicodeWriter(tmp.joinpath('out.tsv'), delimiter='\\t') as writer:\n",
    "        writer.writerows(rows)\n",
    "    print(tmp.joinpath('out.tsv').open(encoding='utf8').read())"
   ]
  },
  {
   "cell_type": "code",
   "execution_count": null,
   "metadata": {
    "collapsed": true
   },
   "outputs": [],
   "source": []
  }
 ],
 "metadata": {
  "kernelspec": {
   "display_name": "Python 2",
   "language": "python",
   "name": "python2"
  },
  "language_info": {
   "codemirror_mode": {
    "name": "ipython",
    "version": 2
   },
   "file_extension": ".py",
   "mimetype": "text/x-python",
   "name": "python",
   "nbconvert_exporter": "python",
   "pygments_lexer": "ipython2",
   "version": "2.7.6"
  }
 },
 "nbformat": 4,
 "nbformat_minor": 0
}
