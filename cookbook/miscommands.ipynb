{
 "cells": [
  {
   "cell_type": "markdown",
   "metadata": {},
   "source": [
    "# Miscelleneaous Commands"
   ]
  },
  {
   "cell_type": "markdown",
   "metadata": {},
   "source": [
    "This thread introduces miscelleneaous useful commands from the clldutils library and other libraries regularly used in LexiBank."
   ]
  },
  {
   "cell_type": "markdown",
   "metadata": {},
   "source": [
    "## Unicode CSV Reader"
   ]
  },
  {
   "cell_type": "code",
   "execution_count": 2,
   "metadata": {
    "collapsed": true
   },
   "outputs": [],
   "source": [
    "from clldutils.dsv import UnicodeReader"
   ]
  },
  {
   "cell_type": "code",
   "execution_count": 8,
   "metadata": {
    "collapsed": false
   },
   "outputs": [
    {
     "name": "stdout",
     "output_type": "stream",
     "text": [
      "0 5  Longitude\n",
      "1 5  \n",
      "2 5 1.0 97° 09' 47.66\" E\n",
      "3 5 2.0 97° 09' 47.66\" E\n",
      "4 5 3.0 97° 17' 23.79\" E\n",
      "5 5 4.0 97° 09' 40.20\" E\n",
      "6 5 5.0 97° 08' 21.35\" E\n",
      "7 5 6.0 98° 22' 47.59\" E\n",
      "8 5 7.0 98° 23' 35.25\" E\n",
      "9 5 8.0 98° 33' 23.90\" E\n",
      "10 5 9.0 99° 52' 00.54\" E\n",
      "11 5 10.0 96° 32' 44.78\" E\n",
      "12 5 11.0 99° 02' 41.07\" E\n",
      "13 5 12.0 99° 33' 27.18\" E\n",
      "14 5 13.0 98° 27' 49.18\" E\n",
      "15 5 14.0 97° 47' 46.61\" E\n",
      "16 5 15.0 98° 23' 56.68\" E\n",
      "17 5 16.0 97° 49' 11.05\" E\n"
     ]
    }
   ],
   "source": [
    "with UnicodeReader('../datasets/palaung/raw/100item-phylo.Sheet2.csv', delimiter=\",\") as reader:\n",
    "    for i, row in enumerate(reader):\n",
    "        print(i, len(row), row[0], row[2])\n",
    "                   "
   ]
  },
  {
   "cell_type": "code",
   "execution_count": null,
   "metadata": {
    "collapsed": true
   },
   "outputs": [],
   "source": []
  }
 ],
 "metadata": {
  "kernelspec": {
   "display_name": "Python 3",
   "language": "python",
   "name": "python3"
  },
  "language_info": {
   "codemirror_mode": {
    "name": "ipython",
    "version": 3
   },
   "file_extension": ".py",
   "mimetype": "text/x-python",
   "name": "python",
   "nbconvert_exporter": "python",
   "pygments_lexer": "ipython3",
   "version": "3.5.2"
  }
 },
 "nbformat": 4,
 "nbformat_minor": 0
}
