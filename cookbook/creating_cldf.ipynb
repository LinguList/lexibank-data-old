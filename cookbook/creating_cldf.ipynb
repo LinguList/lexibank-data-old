{
 "cells": [
  {
   "cell_type": "markdown",
   "metadata": {},
   "source": [
    "# Creating lexibank CLDF for a dataset"
   ]
  },
  {
   "cell_type": "code",
   "execution_count": 32,
   "metadata": {
    "collapsed": true
   },
   "outputs": [],
   "source": [
    "from pylexibank.dataset import Dataset, CldfDataset, REQUIRED_FIELDS\n",
    "from clldutils.path import TemporaryDirectory\n",
    "from clldutils.dsv import reader"
   ]
  },
  {
   "cell_type": "code",
   "execution_count": 33,
   "metadata": {
    "collapsed": false
   },
   "outputs": [],
   "source": [
    "dataset = Dataset('../datasets/galuciotupi')"
   ]
  },
  {
   "cell_type": "code",
   "execution_count": 34,
   "metadata": {
    "collapsed": false
   },
   "outputs": [
    {
     "name": "stdout",
     "output_type": "stream",
     "text": [
      "(u'ID', u'Language_ID', u'Parameter_ID', u'Value')\n"
     ]
    }
   ],
   "source": [
    "print(REQUIRED_FIELDS)"
   ]
  },
  {
   "cell_type": "code",
   "execution_count": 35,
   "metadata": {
    "collapsed": true
   },
   "outputs": [],
   "source": [
    "cldf = CldfDataset(list(REQUIRED_FIELDS) + ['Source'], dataset)"
   ]
  },
  {
   "cell_type": "markdown",
   "metadata": {},
   "source": [
    "## Adding sources"
   ]
  },
  {
   "cell_type": "code",
   "execution_count": 36,
   "metadata": {
    "collapsed": true
   },
   "outputs": [],
   "source": [
    "cldf.sources.add(\"\"\"\n",
    "@book{meier2000,\n",
    "    author = {Max Meier},\n",
    "    title = {The Book},\n",
    "    year = {2000}\n",
    "}\"\"\")"
   ]
  },
  {
   "cell_type": "code",
   "execution_count": 37,
   "metadata": {
    "collapsed": true
   },
   "outputs": [],
   "source": [
    "assert 'meier2000' in cldf.sources"
   ]
  },
  {
   "cell_type": "code",
   "execution_count": 38,
   "metadata": {
    "collapsed": false
   },
   "outputs": [
    {
     "name": "stdout",
     "output_type": "stream",
     "text": [
      "@book{meier2000,\n",
      "    author = {Meier, Max},\n",
      "    title = {The Book},\n",
      "    year = {2000}\n",
      "}\n",
      "\n"
     ]
    }
   ],
   "source": [
    "with TemporaryDirectory() as tmp:\n",
    "    cldf.write(outdir=tmp)\n",
    "    assert tmp.joinpath('galuciotupi.bib').exists()\n",
    "    bib = tmp.joinpath('galuciotupi.bib').open(encoding='utf8').read()\n",
    "    print(bib)"
   ]
  },
  {
   "cell_type": "markdown",
   "metadata": {},
   "source": [
    "Adding sources is idempotent, i.e. if the cite key of a source already exists, it is not added again:"
   ]
  },
  {
   "cell_type": "code",
   "execution_count": 39,
   "metadata": {
    "collapsed": true
   },
   "outputs": [],
   "source": [
    "assert len(cldf.sources) == 1\n",
    "cldf.sources.add(bib)\n",
    "assert len(cldf.sources) == 1"
   ]
  },
  {
   "cell_type": "markdown",
   "metadata": {},
   "source": [
    "## Adding data"
   ]
  },
  {
   "cell_type": "code",
   "execution_count": 40,
   "metadata": {
    "collapsed": false
   },
   "outputs": [],
   "source": [
    "row = cldf.add_row(['wid', 'abcd1234', '1234', 'word', 'meier2000[12]'])"
   ]
  },
  {
   "cell_type": "code",
   "execution_count": 41,
   "metadata": {
    "collapsed": false
   },
   "outputs": [
    {
     "data": {
      "text/plain": [
       "[<Reference meier2000[12]>]"
      ]
     },
     "execution_count": 41,
     "metadata": {},
     "output_type": "execute_result"
    }
   ],
   "source": [
    "row.refs"
   ]
  },
  {
   "cell_type": "code",
   "execution_count": 42,
   "metadata": {
    "collapsed": false
   },
   "outputs": [
    {
     "name": "stdout",
     "output_type": "stream",
     "text": [
      "OrderedDict([(u'ID', u'wid'), (u'Language_ID', u'abcd1234'), (u'Parameter_ID', u'1234'), (u'Value', u'word'), (u'Source', u'meier2000[12]')])\n"
     ]
    }
   ],
   "source": [
    "with TemporaryDirectory() as tmp:\n",
    "    cldf.write(outdir=tmp)\n",
    "    assert tmp.joinpath('galuciotupi.csv').exists()\n",
    "    print(list(reader(tmp.joinpath('galuciotupi.csv'), dicts=True))[0])"
   ]
  },
  {
   "cell_type": "markdown",
   "metadata": {},
   "source": [
    "## Metadata"
   ]
  },
  {
   "cell_type": "code",
   "execution_count": 43,
   "metadata": {
    "collapsed": false
   },
   "outputs": [
    {
     "name": "stdout",
     "output_type": "stream",
     "text": [
      "galuciotupi.csv\n",
      "galuciotupi.csv-metadata.json\n",
      "galuciotupi.bib\n"
     ]
    }
   ],
   "source": [
    "with TemporaryDirectory() as tmp:\n",
    "    cldf.write(outdir=tmp)\n",
    "    for fname in tmp.iterdir():\n",
    "        print(fname.name)"
   ]
  },
  {
   "cell_type": "code",
   "execution_count": null,
   "metadata": {
    "collapsed": true
   },
   "outputs": [],
   "source": []
  }
 ],
 "metadata": {
  "kernelspec": {
   "display_name": "Python 2",
   "language": "python",
   "name": "python2"
  },
  "language_info": {
   "codemirror_mode": {
    "name": "ipython",
    "version": 2
   },
   "file_extension": ".py",
   "mimetype": "text/x-python",
   "name": "python",
   "nbconvert_exporter": "python",
   "pygments_lexer": "ipython2",
   "version": "2.7.6"
  }
 },
 "nbformat": 4,
 "nbformat_minor": 1
}
