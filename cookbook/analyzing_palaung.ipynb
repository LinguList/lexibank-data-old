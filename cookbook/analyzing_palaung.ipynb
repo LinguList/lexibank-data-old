{
 "cells": [
  {
   "cell_type": "markdown",
   "metadata": {},
   "source": [
    "# Analyzing the Palaung data"
   ]
  },
  {
   "cell_type": "markdown",
   "metadata": {},
   "source": [
    "We want to analyze the Palaung dataset. "
   ]
  },
  {
   "cell_type": "code",
   "execution_count": 1,
   "metadata": {
    "collapsed": false
   },
   "outputs": [],
   "source": [
    "from lingpy import * # general settings\n",
    "from lingpy.basic.wordlist import get_wordlist # csv-to-wordlist converter\n",
    "from lingpy.evaluate.acd import bcubes # cognate detection evaluation"
   ]
  },
  {
   "cell_type": "markdown",
   "metadata": {},
   "source": [
    "We start by loading the CLDF-file as a simple LingPy-Wordlist. We specify the keyword \"row\" as \"parameter_name\", as this is the column in which we store the glosses for the concepts in CLDF. Likewise, we specify \"col\" as \"language_name\", since LingPy-Wordlists need to know where these columns are in the data."
   ]
  },
  {
   "cell_type": "code",
   "execution_count": 2,
   "metadata": {
    "collapsed": true
   },
   "outputs": [],
   "source": [
    "wl = get_wordlist(\"../datasets/palaung/cldf/palaung.csv\", row=\"parameter_name\", col=\"language_name\")"
   ]
  },
  {
   "cell_type": "markdown",
   "metadata": {},
   "source": [
    "We check the content of the wordlist file."
   ]
  },
  {
   "cell_type": "code",
   "execution_count": 4,
   "metadata": {
    "collapsed": false
   },
   "outputs": [
    {
     "name": "stdout",
     "output_type": "stream",
     "text": [
      "Wordlist has 1567 entries, 16 languages, 99 concepts, and 10 columns.\n"
     ]
    }
   ],
   "source": [
    "print(\"Wordlist has {0} entries, {1} languages, {2} concepts, and {3} columns.\".format(len(wl), wl.width, wl.height, len(wl.header)))"
   ]
  },
  {
   "cell_type": "markdown",
   "metadata": {},
   "source": [
    "Now we pass the wordlist object to the LexStat class. We specify the same parameters, but we pass an additional parameter \"segments\", to inform LingPy-LexStat where the segments are in the CLDF."
   ]
  },
  {
   "cell_type": "code",
   "execution_count": 5,
   "metadata": {
    "collapsed": true
   },
   "outputs": [],
   "source": [
    "lex = LexStat(wl, col='language_name', row=\"parameter_name\", segments=\"segments\")"
   ]
  },
  {
   "cell_type": "markdown",
   "metadata": {},
   "source": [
    "We now carry out a quick cognate detection analysis, using LexStat's \"lexstat\" function. We set the keyword \"ref\" to \"lexstat\" to indicate in which column the automatic cognate detection should be stored."
   ]
  },
  {
   "cell_type": "code",
   "execution_count": 6,
   "metadata": {
    "collapsed": false
   },
   "outputs": [
    {
     "name": "stdout",
     "output_type": "stream",
     "text": [
      "|++++++++++++++++++++++++++++++++++++++++++++++++++++++++++++++++++++++++++++++++++++++++++++++++++++|\n",
      "|++++++++++++++++++++++++++++++++++++++++++++++++++++++++++++++++++++++++++++++++++++++++++++++++++++|\n",
      "|++++++++++++++++++++++++++++++++++++++++++++++++++++++++++++++++++++++++++++++++++++++++++++++++++++|\n"
     ]
    }
   ],
   "source": [
    "lex.get_scorer(runs=1000)\n",
    "lex.cluster(method=\"lexstat\", ref=\"lexstat\", threshold=0.65)"
   ]
  },
  {
   "cell_type": "markdown",
   "metadata": {},
   "source": [
    "Now we can test how well the automatic cognate detection performed, by comparing the content in the column \"cognacy\" (default name for cognate sets in CLDF) with the content in the column \"lexstat\", using LingPy's bcubes-function."
   ]
  },
  {
   "cell_type": "code",
   "execution_count": 7,
   "metadata": {
    "collapsed": false
   },
   "outputs": [
    {
     "name": "stdout",
     "output_type": "stream",
     "text": [
      "*************************\n",
      "* B-Cubed-Scores        *\n",
      "* --------------------- *\n",
      "* Precision:     0.8879 *\n",
      "* Recall:        0.8613 *\n",
      "* F-Scores:      0.8744 *\n",
      "*************************'\n"
     ]
    }
   ],
   "source": [
    "a, b, c = bcubes(lex, 'cognacy', 'lexstat', pprint=True)"
   ]
  },
  {
   "cell_type": "markdown",
   "metadata": {},
   "source": [
    "Wow, our precision is quite high, which is good, as it means there are not many false positives. Recall could be improved, but we should be happy with almost 90%, given the small size of the wordlist."
   ]
  }
 ],
 "metadata": {
  "kernelspec": {
   "display_name": "Python 3",
   "language": "python",
   "name": "python3"
  },
  "language_info": {
   "codemirror_mode": {
    "name": "ipython",
    "version": 3
   },
   "file_extension": ".py",
   "mimetype": "text/x-python",
   "name": "python",
   "nbconvert_exporter": "python",
   "pygments_lexer": "ipython3",
   "version": "3.5.2"
  }
 },
 "nbformat": 4,
 "nbformat_minor": 0
}
