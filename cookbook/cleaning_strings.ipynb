{
 "cells": [
  {
   "cell_type": "markdown",
   "metadata": {},
   "source": [
    "# Cleaning Phonetic Transcriptions"
   ]
  },
  {
   "cell_type": "markdown",
   "metadata": {},
   "source": [
    "In computational historical linguistics, we will often have to deal with \"dirty\" phonetic transcriptions. Since most linguistic data is only produced for inspection by humans, people usually neglect the importance of consistency in creating their data. The problems are numerous and usually largely underestimated by computer scientists, especially those who work in big data frameworks, as there is the general belief that on the long run, these errors won't do any harm. This is definitely **not** true in historical linguistics, as our data is generally very sparse, and we need to try to get the highest quality possible, if we want to have a successful integration of computational and linguistic approaches.\n",
    "\n",
    "## Examples for inconsistencies\n",
    "\n",
    "What kind of inconsistencies can we expect in our data? They are numerous, and each dataset is unique in this respect, but here are some of the cases which in our experience are frequently causing trouble:\n",
    "\n",
    "### Multiple words per entry\n",
    "\n",
    "If scholars create wordlists, they usually use a spreadsheet program and have a table structure in which each column represents a language and each row represents a concept. When having multiple words for the same concept, they insert multiple values in the same cell. This would not necessarily be a problem for automatic parsing, but it becomes a problem, when scholars use the delimiters inconsistently. So, in one and the same dataset, we can often find a huge variety of different characters used to indicate that the entries in the cell correspond to more than one word. Here are some examples:\n",
    "\n",
    "* \",\": The comma is frequently used to indicate multiple entries.\n",
    "* \";\": The semi-colon is almost as widely used as the comma as a word delimiter.\n",
    "* \"/\": The slash is less common, but can still often be found.\n",
    "* \"~\": The tilde is one of the most problematic delimiters, often used with a slightly different semantic, indicating a near phonetic variant rather, sometimes, another unicode variant of the tilde is used, which looks more or less the same, but represents another character\n",
    "\n",
    "### Missing entries\n",
    "\n",
    "This is one of the cases causing most of the confusion: If scholars don't find a word for a given concept, they do not just leave the cell empty, but they often feel the need to indicate it explicitly, yet, unfortunately, not very consistently. In one and the same dataset, one can easily find three or even more different ways to indicate empty values. As an example from practice, in one dataset, I found:\n",
    "\n",
    "* \"\": empty string\n",
    "* \"(no data)\": very original way to tell that there is no data\n",
    "* \"-\": a classic, yet unfortunately, people also often use \"--\", or \"---\"\n",
    "* \"?\": another classic\n",
    "* \"‘\": not a classic, but occured two times\n",
    "* \"??\": compare \"-\" vs. \"--\", but one can also find \"???\"\n",
    "\n",
    "Missing entry encoding is usually not predictable. A good guess are empty cells, question marks, and dashes. But all that goes beyond is often just a horror and needs to be manually checked.\n",
    "\n",
    "### Brackets (saying what should not be said)\n",
    "\n",
    "Brackets are used in all kinds of combinations and all kinds of functions in phonetic transcriptions. Sometimes they mean that there is a variant for a given word, sometimes they indicate that a part of a word is sometimes pronounced but not always, sometimes they just contain comments, and sometimes, they even indicate idiosyncratic things, such as borrowings. As a default, one should delete all the content inside brackets when cleaning phonetic transcriptions and have the experts go through all the cases to correct them, if needed. \n",
    "\n",
    "## Cleaning transcriptions in Python\n",
    "\n"
   ]
  },
  {
   "cell_type": "code",
   "execution_count": null,
   "metadata": {
    "collapsed": true
   },
   "outputs": [],
   "source": [
    "# "
   ]
  }
 ],
 "metadata": {
  "kernelspec": {
   "display_name": "Python 3",
   "language": "python",
   "name": "python3"
  },
  "language_info": {
   "codemirror_mode": {
    "name": "ipython",
    "version": 3
   },
   "file_extension": ".py",
   "mimetype": "text/x-python",
   "name": "python",
   "nbconvert_exporter": "python",
   "pygments_lexer": "ipython3",
   "version": "3.5.2"
  }
 },
 "nbformat": 4,
 "nbformat_minor": 0
}
