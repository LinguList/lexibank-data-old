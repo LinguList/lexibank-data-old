{
 "cells": [
  {
   "cell_type": "markdown",
   "metadata": {},
   "source": [
    "# Load LingPy"
   ]
  },
  {
   "cell_type": "code",
   "execution_count": 3,
   "metadata": {
    "collapsed": false
   },
   "outputs": [],
   "source": [
    "from lingpy import * # general settings\n",
    "from lingpy.basic.wordlist import get_wordlist # csv-to-wordlist converter\n",
    "from lingpy.evaluate.acd import bcubes # cognate detection evaluation"
   ]
  },
  {
   "cell_type": "markdown",
   "metadata": {},
   "source": [
    "Let's assume that we want to load the CLDF-formatted file mixezoquean.csv. We have opened the terminal in the folder lexibank-data/cookbook, so we need to properly reference the path. We start by loading the CLDF-file as a simple LingPy-Wordlist. We specify the keyword \"row\" as \"parameter_name\", as this is the column in which we store the glosses for the concepts in CLDF. Likewise, we specify \"col\" as \"language_name\", since LingPy-Wordlists need to know where these columns are in the data."
   ]
  },
  {
   "cell_type": "code",
   "execution_count": 4,
   "metadata": {
    "collapsed": true
   },
   "outputs": [],
   "source": [
    "wl = get_wordlist(\"../datasets/mixezoquean/cldf/mixezoquean.csv\", row=\"parameter_name\", col=\"language_name\")"
   ]
  },
  {
   "cell_type": "markdown",
   "metadata": {},
   "source": [
    "We check the content of the wordlist file."
   ]
  },
  {
   "cell_type": "code",
   "execution_count": 7,
   "metadata": {
    "collapsed": false
   },
   "outputs": [
    {
     "name": "stdout",
     "output_type": "stream",
     "text": [
      "Wordlist has 1072 entries, 10 languages, 110 concepts, and 10 columns.\n"
     ]
    }
   ],
   "source": [
    "print(\"Wordlist has {0} entries, {1} languages, {2} concepts, and {3} columns.\".format(len(wl), wl.width, wl.height, len(wl.header)))"
   ]
  },
  {
   "cell_type": "markdown",
   "metadata": {},
   "source": [
    "Now we pass the wordlist object to the LexStat class. We specify the same parameters, but we pass an additional parameter \"segments\", to inform LingPy-LexStat where the segments are in the CLDF."
   ]
  },
  {
   "cell_type": "code",
   "execution_count": 8,
   "metadata": {
    "collapsed": true
   },
   "outputs": [],
   "source": [
    "lex = LexStat(wl, col='language_name', row=\"parameter_name\", segments=\"segments\")"
   ]
  },
  {
   "cell_type": "markdown",
   "metadata": {},
   "source": [
    "We now carry out a quick cognate detection analysis, using LexStat's \"lexstat\" function. We set the keyword \"ref\" to \"lexstat\" to indicate in which column the automatic cognate detection should be stored."
   ]
  },
  {
   "cell_type": "code",
   "execution_count": 9,
   "metadata": {
    "collapsed": false
   },
   "outputs": [
    {
     "name": "stdout",
     "output_type": "stream",
     "text": [
      "|++++++++++++++++++++++++++++++++++++++++++++++++++++++++++++++++++++++++++++++++++++++++++++++++++++|\n",
      "|++++++++++++++++++++++++++++++++++++++++++++++++++++++++++++++++++++++++++++++++++++++++++++++++++++|\n",
      "|++++++++++++++++++++++++++++++++++++++++++++++++++++++++++++++++++++++++++++++++++++++++++++++++++++|\n"
     ]
    }
   ],
   "source": [
    "lex.get_scorer(runs=1000)\n",
    "lex.cluster(method=\"lexstat\", ref=\"lexstat\", threshold=0.65)\n",
    "print(\"LexStat object has {0} columns.\".format(lex.header))"
   ]
  },
  {
   "cell_type": "markdown",
   "metadata": {},
   "source": [
    "Now we can test how well the automatic cognate detection performed, by comparing the content in the column \"cognacy\" (default name for cognate sets in CLDF) with the content in the column \"lexstat\", using LingPy's bcubes-function."
   ]
  },
  {
   "cell_type": "code",
   "execution_count": 10,
   "metadata": {
    "collapsed": false
   },
   "outputs": [
    {
     "name": "stdout",
     "output_type": "stream",
     "text": [
      "*************************')\n",
      "* B-Cubed-Scores        *\n",
      "* --------------------- *\n",
      "* Precision:     0.9482 *\n",
      "* Recall:        0.8419 *\n",
      "* F-Scores:      0.8919 *\n",
      "*************************'\n"
     ]
    },
    {
     "data": {
      "text/plain": [
       "(0.9482431592039804, 0.8419372800570178, 0.891933850670878)"
      ]
     },
     "execution_count": 10,
     "metadata": {},
     "output_type": "execute_result"
    }
   ],
   "source": [
    "bcubes(lex, 'cognacy', 'lexstat')"
   ]
  },
  {
   "cell_type": "markdown",
   "metadata": {},
   "source": [
    "Wow, our precision is quite high, which is good, as it means there are not many false positives. Recall could be improved, but we should be happy with almost 90%, given the small size of the wordlist."
   ]
  }
 ],
 "metadata": {
  "kernelspec": {
   "display_name": "Python 3",
   "language": "python",
   "name": "python3"
  },
  "language_info": {
   "codemirror_mode": {
    "name": "ipython",
    "version": 3
   },
   "file_extension": ".py",
   "mimetype": "text/x-python",
   "name": "python",
   "nbconvert_exporter": "python",
   "pygments_lexer": "ipython3",
   "version": "3.5.2"
  }
 },
 "nbformat": 4,
 "nbformat_minor": 0
}
