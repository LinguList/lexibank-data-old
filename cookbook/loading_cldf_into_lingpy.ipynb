{
 "cells": [
  {
   "cell_type": "markdown",
   "metadata": {},
   "source": [
    "# Loading CLDF files into LingPy"
   ]
  },
  {
   "cell_type": "markdown",
   "metadata": {},
   "source": [
    "Let's assume that we want to load the CLDF-formatted file mixezoquean.csv. We further want to automatically search this data for cognates and compare how well the algorithm performs against the expert cognates given in the data. We have opened the terminal in the folder lexibank-data/cookbook, so we need to properly reference the path. We first load a couple of LingPy modules."
   ]
  },
  {
   "cell_type": "code",
   "execution_count": 1,
   "metadata": {
    "collapsed": false
   },
   "outputs": [],
   "source": [
    "from lingpy import * # general settings\n",
    "from lingpy.basic.wordlist import get_wordlist # csv-to-wordlist converter\n",
    "from lingpy.evaluate.acd import bcubes # cognate detection evaluation"
   ]
  },
  {
   "cell_type": "markdown",
   "metadata": {},
   "source": [
    "We start by loading the CLDF-file as a simple LingPy-Wordlist. We specify the keyword \"row\" as \"parameter_name\", as this is the column in which we store the glosses for the concepts in CLDF. Likewise, we specify \"col\" as \"language_name\", since LingPy-Wordlists need to know where these columns are in the data."
   ]
  },
  {
   "cell_type": "code",
   "execution_count": 2,
   "metadata": {
    "collapsed": false
   },
   "outputs": [],
   "source": [
    "wl = get_wordlist(\"../datasets/mixezoquean/cldf/mixezoquean.csv\", row=\"parameter_name\", col=\"language_name\")"
   ]
  },
  {
   "cell_type": "markdown",
   "metadata": {},
   "source": [
    "We check the content of the wordlist file."
   ]
  },
  {
   "cell_type": "code",
   "execution_count": 3,
   "metadata": {
    "collapsed": false
   },
   "outputs": [
    {
     "name": "stdout",
     "output_type": "stream",
     "text": [
      "Wordlist has 1072 entries, 10 languages, 110 concepts, and 10 columns.\n"
     ]
    }
   ],
   "source": [
    "print(\"Wordlist has {0} entries, {1} languages, {2} concepts, and {3} columns.\".format(len(wl), wl.width, wl.height, len(wl.header)))"
   ]
  },
  {
   "cell_type": "markdown",
   "metadata": {},
   "source": [
    "Now we pass the wordlist object to the LexStat class. We specify the same parameters, but we pass an additional parameter \"segments\", to inform LingPy-LexStat where the segments are in the CLDF."
   ]
  },
  {
   "cell_type": "code",
   "execution_count": 4,
   "metadata": {
    "collapsed": false
   },
   "outputs": [],
   "source": [
    "lex = LexStat(wl, col='language_name', row=\"parameter_name\", segments=\"segments\")"
   ]
  },
  {
   "cell_type": "markdown",
   "metadata": {},
   "source": [
    "We now carry out a quick cognate detection analysis, using LexStat's \"lexstat\" function. We set the keyword \"ref\" to \"lexstat\" to indicate in which column the automatic cognate detection should be stored."
   ]
  },
  {
   "cell_type": "code",
   "execution_count": 5,
   "metadata": {
    "collapsed": false
   },
   "outputs": [
    {
     "name": "stderr",
     "output_type": "stream",
     "text": [
      "CORRESPONDENCE CALCULATION:   0%|          | 0/50.0 [00:00<?, ?it/s]2016-11-08 13:45:48,785 [INFO] Calculating alignments for pair Chiapas Zoque / Chiapas Zoque.\n",
      "2016-11-08 13:45:48,821 [INFO] Calculating alignments for pair Chiapas Zoque / Lowland Mixe.\n",
      "2016-11-08 13:45:48,880 [INFO] Calculating alignments for pair Chiapas Zoque / North Highland Mixe.\n",
      "CORRESPONDENCE CALCULATION:   8%|▊         | 4/50.0 [00:00<00:01, 32.23it/s]2016-11-08 13:45:48,910 [INFO] Calculating alignments for pair Chiapas Zoque / Oluta Popoluca.\n",
      "2016-11-08 13:45:48,941 [INFO] Calculating alignments for pair Chiapas Zoque / San Miguel Chimalapa Zoque.\n",
      "2016-11-08 13:45:48,974 [INFO] Calculating alignments for pair Chiapas Zoque / Santa María Chimalapa Zoque.\n",
      "2016-11-08 13:45:49,006 [INFO] Calculating alignments for pair Chiapas Zoque / Sayula Popoluca.\n",
      "CORRESPONDENCE CALCULATION:  16%|█▌        | 8/50.0 [00:00<00:01, 32.12it/s]2016-11-08 13:45:49,036 [INFO] Calculating alignments for pair Chiapas Zoque / Soteapan Zoque.\n",
      "2016-11-08 13:45:49,066 [INFO] Calculating alignments for pair Chiapas Zoque / South Highland Mixe.\n",
      "2016-11-08 13:45:49,096 [INFO] Calculating alignments for pair Chiapas Zoque / Texistepec Zoque.\n",
      "2016-11-08 13:45:49,131 [INFO] Calculating alignments for pair Lowland Mixe / Lowland Mixe.\n",
      "CORRESPONDENCE CALCULATION:  24%|██▍       | 12/50.0 [00:00<00:01, 31.09it/s]2016-11-08 13:45:49,174 [INFO] Calculating alignments for pair Lowland Mixe / North Highland Mixe.\n",
      "2016-11-08 13:45:49,233 [INFO] Calculating alignments for pair Lowland Mixe / Oluta Popoluca.\n",
      "2016-11-08 13:45:49,294 [INFO] Calculating alignments for pair Lowland Mixe / San Miguel Chimalapa Zoque.\n",
      "CORRESPONDENCE CALCULATION:  30%|███       | 15/50.0 [00:00<00:01, 24.28it/s]2016-11-08 13:45:49,361 [INFO] Calculating alignments for pair Lowland Mixe / Santa María Chimalapa Zoque.\n",
      "2016-11-08 13:45:49,418 [INFO] Calculating alignments for pair Lowland Mixe / Sayula Popoluca.\n",
      "CORRESPONDENCE CALCULATION:  34%|███▍      | 17/50.0 [00:00<00:01, 21.65it/s]2016-11-08 13:45:49,476 [INFO] Calculating alignments for pair Lowland Mixe / Soteapan Zoque.\n",
      "2016-11-08 13:45:49,535 [INFO] Calculating alignments for pair Lowland Mixe / South Highland Mixe.\n",
      "CORRESPONDENCE CALCULATION:  38%|███▊      | 19/50.0 [00:00<00:01, 20.04it/s]2016-11-08 13:45:49,593 [INFO] Calculating alignments for pair Lowland Mixe / Texistepec Zoque.\n",
      "2016-11-08 13:45:49,656 [INFO] Calculating alignments for pair North Highland Mixe / North Highland Mixe.\n",
      "CORRESPONDENCE CALCULATION:  42%|████▏     | 21/50.0 [00:00<00:01, 19.07it/s]2016-11-08 13:45:49,710 [INFO] Calculating alignments for pair North Highland Mixe / Oluta Popoluca.\n",
      "2016-11-08 13:45:49,768 [INFO] Calculating alignments for pair North Highland Mixe / San Miguel Chimalapa Zoque.\n",
      "CORRESPONDENCE CALCULATION:  46%|████▌     | 23/50.0 [00:01<00:01, 18.37it/s]2016-11-08 13:45:49,828 [INFO] Calculating alignments for pair North Highland Mixe / Santa María Chimalapa Zoque.\n",
      "2016-11-08 13:45:49,882 [INFO] Calculating alignments for pair North Highland Mixe / Sayula Popoluca.\n",
      "CORRESPONDENCE CALCULATION:  50%|█████     | 25/50.0 [00:01<00:01, 18.45it/s]2016-11-08 13:45:49,936 [INFO] Calculating alignments for pair North Highland Mixe / Soteapan Zoque.\n",
      "2016-11-08 13:45:49,975 [INFO] Calculating alignments for pair North Highland Mixe / South Highland Mixe.\n",
      "2016-11-08 13:45:50,016 [INFO] Calculating alignments for pair North Highland Mixe / Texistepec Zoque.\n",
      "CORRESPONDENCE CALCULATION:  56%|█████▌    | 28/50.0 [00:01<00:01, 20.22it/s]2016-11-08 13:45:50,051 [INFO] Calculating alignments for pair Oluta Popoluca / Oluta Popoluca.\n",
      "2016-11-08 13:45:50,092 [INFO] Calculating alignments for pair Oluta Popoluca / San Miguel Chimalapa Zoque.\n",
      "2016-11-08 13:45:50,142 [INFO] Calculating alignments for pair Oluta Popoluca / Santa María Chimalapa Zoque.\n",
      "CORRESPONDENCE CALCULATION:  62%|██████▏   | 31/50.0 [00:01<00:00, 20.12it/s]2016-11-08 13:45:50,202 [INFO] Calculating alignments for pair Oluta Popoluca / Sayula Popoluca.\n",
      "2016-11-08 13:45:50,252 [INFO] Calculating alignments for pair Oluta Popoluca / Soteapan Zoque.\n",
      "2016-11-08 13:45:50,286 [INFO] Calculating alignments for pair Oluta Popoluca / South Highland Mixe.\n",
      "CORRESPONDENCE CALCULATION:  68%|██████▊   | 34/50.0 [00:01<00:00, 21.40it/s]2016-11-08 13:45:50,321 [INFO] Calculating alignments for pair Oluta Popoluca / Texistepec Zoque.\n",
      "2016-11-08 13:45:50,378 [INFO] Calculating alignments for pair San Miguel Chimalapa Zoque / San Miguel Chimalapa Zoque.\n",
      "2016-11-08 13:45:50,426 [INFO] Calculating alignments for pair San Miguel Chimalapa Zoque / Santa María Chimalapa Zoque.\n",
      "CORRESPONDENCE CALCULATION:  74%|███████▍  | 37/50.0 [00:01<00:00, 21.16it/s]2016-11-08 13:45:50,467 [INFO] Calculating alignments for pair San Miguel Chimalapa Zoque / Sayula Popoluca.\n",
      "2016-11-08 13:45:50,505 [INFO] Calculating alignments for pair San Miguel Chimalapa Zoque / Soteapan Zoque.\n",
      "2016-11-08 13:45:50,543 [INFO] Calculating alignments for pair San Miguel Chimalapa Zoque / South Highland Mixe.\n",
      "CORRESPONDENCE CALCULATION:  80%|████████  | 40/50.0 [00:01<00:00, 22.30it/s]2016-11-08 13:45:50,584 [INFO] Calculating alignments for pair San Miguel Chimalapa Zoque / Texistepec Zoque.\n",
      "2016-11-08 13:45:50,633 [INFO] Calculating alignments for pair Santa María Chimalapa Zoque / Santa María Chimalapa Zoque.\n",
      "2016-11-08 13:45:50,678 [INFO] Calculating alignments for pair Santa María Chimalapa Zoque / Sayula Popoluca.\n",
      "CORRESPONDENCE CALCULATION:  86%|████████▌ | 43/50.0 [00:01<00:00, 22.72it/s]2016-11-08 13:45:50,711 [INFO] Calculating alignments for pair Santa María Chimalapa Zoque / Soteapan Zoque.\n",
      "2016-11-08 13:45:50,742 [INFO] Calculating alignments for pair Santa María Chimalapa Zoque / South Highland Mixe.\n",
      "2016-11-08 13:45:50,774 [INFO] Calculating alignments for pair Santa María Chimalapa Zoque / Texistepec Zoque.\n",
      "CORRESPONDENCE CALCULATION:  92%|█████████▏| 46/50.0 [00:02<00:00, 24.09it/s]2016-11-08 13:45:50,817 [INFO] Calculating alignments for pair Sayula Popoluca / Sayula Popoluca.\n",
      "2016-11-08 13:45:50,868 [INFO] Calculating alignments for pair Sayula Popoluca / Soteapan Zoque.\n",
      "2016-11-08 13:45:50,918 [INFO] Calculating alignments for pair Sayula Popoluca / South Highland Mixe.\n",
      "CORRESPONDENCE CALCULATION:  98%|█████████▊| 49/50.0 [00:02<00:00, 22.56it/s]2016-11-08 13:45:50,970 [INFO] Calculating alignments for pair Sayula Popoluca / Texistepec Zoque.\n",
      "2016-11-08 13:45:51,032 [INFO] Calculating alignments for pair Soteapan Zoque / Soteapan Zoque.\n",
      "2016-11-08 13:45:51,091 [INFO] Calculating alignments for pair Soteapan Zoque / South Highland Mixe.\n",
      "CORRESPONDENCE CALCULATION: 52it [00:02, 20.58it/s]                          2016-11-08 13:45:51,146 [INFO] Calculating alignments for pair Soteapan Zoque / Texistepec Zoque.\n",
      "2016-11-08 13:45:51,206 [INFO] Calculating alignments for pair South Highland Mixe / South Highland Mixe.\n",
      "2016-11-08 13:45:51,267 [INFO] Calculating alignments for pair South Highland Mixe / Texistepec Zoque.\n",
      "CORRESPONDENCE CALCULATION: 55it [00:02, 18.87it/s]2016-11-08 13:45:51,336 [INFO] Calculating alignments for pair Texistepec Zoque / Texistepec Zoque.\n",
      "RANDOM CORRESPONDENCE CALCULATION:   0%|          | 0/50.0 [00:00<?, ?it/s]2016-11-08 13:45:51,416 [INFO] Calculating random alignments for pair Chiapas Zoque / Chiapas Zoque.\n",
      "RANDOM CORRESPONDENCE CALCULATION:   4%|▍         | 2/50.0 [00:00<00:07,  6.64it/s]2016-11-08 13:45:51,718 [INFO] Calculating random alignments for pair Chiapas Zoque / Lowland Mixe.\n",
      "RANDOM CORRESPONDENCE CALCULATION:   6%|▌         | 3/50.0 [00:00<00:09,  5.02it/s]2016-11-08 13:45:52,030 [INFO] Calculating random alignments for pair Chiapas Zoque / North Highland Mixe.\n",
      "RANDOM CORRESPONDENCE CALCULATION:   8%|▊         | 4/50.0 [00:00<00:09,  4.71it/s]2016-11-08 13:45:52,273 [INFO] Calculating random alignments for pair Chiapas Zoque / Oluta Popoluca.\n",
      "RANDOM CORRESPONDENCE CALCULATION:  10%|█         | 5/50.0 [00:01<00:10,  4.46it/s]2016-11-08 13:45:52,524 [INFO] Calculating random alignments for pair Chiapas Zoque / San Miguel Chimalapa Zoque.\n",
      "RANDOM CORRESPONDENCE CALCULATION:  12%|█▏        | 6/50.0 [00:01<00:10,  4.25it/s]2016-11-08 13:45:52,786 [INFO] Calculating random alignments for pair Chiapas Zoque / Santa María Chimalapa Zoque.\n",
      "RANDOM CORRESPONDENCE CALCULATION:  14%|█▍        | 7/50.0 [00:01<00:10,  4.12it/s]2016-11-08 13:45:53,045 [INFO] Calculating random alignments for pair Chiapas Zoque / Sayula Popoluca.\n",
      "RANDOM CORRESPONDENCE CALCULATION:  16%|█▌        | 8/50.0 [00:01<00:10,  4.15it/s]2016-11-08 13:45:53,283 [INFO] Calculating random alignments for pair Chiapas Zoque / Soteapan Zoque.\n",
      "RANDOM CORRESPONDENCE CALCULATION:  18%|█▊        | 9/50.0 [00:02<00:10,  4.02it/s]2016-11-08 13:45:53,549 [INFO] Calculating random alignments for pair Chiapas Zoque / South Highland Mixe.\n",
      "RANDOM CORRESPONDENCE CALCULATION:  20%|██        | 10/50.0 [00:02<00:10,  3.95it/s]2016-11-08 13:45:53,813 [INFO] Calculating random alignments for pair Chiapas Zoque / Texistepec Zoque.\n",
      "RANDOM CORRESPONDENCE CALCULATION:  22%|██▏       | 11/50.0 [00:02<00:10,  3.80it/s]2016-11-08 13:45:54,100 [INFO] Calculating random alignments for pair Lowland Mixe / Lowland Mixe.\n",
      "RANDOM CORRESPONDENCE CALCULATION:  24%|██▍       | 12/50.0 [00:03<00:10,  3.57it/s]2016-11-08 13:45:54,419 [INFO] Calculating random alignments for pair Lowland Mixe / North Highland Mixe.\n",
      "RANDOM CORRESPONDENCE CALCULATION:  26%|██▌       | 13/50.0 [00:03<00:10,  3.50it/s]2016-11-08 13:45:54,718 [INFO] Calculating random alignments for pair Lowland Mixe / Oluta Popoluca.\n",
      "RANDOM CORRESPONDENCE CALCULATION:  28%|██▊       | 14/50.0 [00:03<00:10,  3.40it/s]2016-11-08 13:45:55,031 [INFO] Calculating random alignments for pair Lowland Mixe / San Miguel Chimalapa Zoque.\n",
      "RANDOM CORRESPONDENCE CALCULATION:  30%|███       | 15/50.0 [00:03<00:10,  3.34it/s]2016-11-08 13:45:55,342 [INFO] Calculating random alignments for pair Lowland Mixe / Santa María Chimalapa Zoque.\n",
      "RANDOM CORRESPONDENCE CALCULATION:  32%|███▏      | 16/50.0 [00:04<00:10,  3.32it/s]2016-11-08 13:45:55,647 [INFO] Calculating random alignments for pair Lowland Mixe / Sayula Popoluca.\n",
      "RANDOM CORRESPONDENCE CALCULATION:  34%|███▍      | 17/50.0 [00:04<00:10,  3.28it/s]2016-11-08 13:45:55,963 [INFO] Calculating random alignments for pair Lowland Mixe / Soteapan Zoque.\n",
      "RANDOM CORRESPONDENCE CALCULATION:  36%|███▌      | 18/50.0 [00:04<00:09,  3.35it/s]2016-11-08 13:45:56,247 [INFO] Calculating random alignments for pair Lowland Mixe / South Highland Mixe.\n",
      "RANDOM CORRESPONDENCE CALCULATION:  38%|███▊      | 19/50.0 [00:05<00:09,  3.32it/s]2016-11-08 13:45:56,553 [INFO] Calculating random alignments for pair Lowland Mixe / Texistepec Zoque.\n",
      "RANDOM CORRESPONDENCE CALCULATION:  40%|████      | 20/50.0 [00:05<00:09,  3.22it/s]2016-11-08 13:45:56,886 [INFO] Calculating random alignments for pair North Highland Mixe / North Highland Mixe.\n",
      "RANDOM CORRESPONDENCE CALCULATION:  42%|████▏     | 21/50.0 [00:05<00:10,  2.89it/s]2016-11-08 13:45:57,315 [INFO] Calculating random alignments for pair North Highland Mixe / Oluta Popoluca.\n",
      "RANDOM CORRESPONDENCE CALCULATION:  44%|████▍     | 22/50.0 [00:06<00:08,  3.15it/s]2016-11-08 13:45:57,566 [INFO] Calculating random alignments for pair North Highland Mixe / San Miguel Chimalapa Zoque.\n",
      "RANDOM CORRESPONDENCE CALCULATION:  46%|████▌     | 23/50.0 [00:06<00:08,  3.35it/s]2016-11-08 13:45:57,819 [INFO] Calculating random alignments for pair North Highland Mixe / Santa María Chimalapa Zoque.\n",
      "RANDOM CORRESPONDENCE CALCULATION:  48%|████▊     | 24/50.0 [00:06<00:07,  3.47it/s]2016-11-08 13:45:58,085 [INFO] Calculating random alignments for pair North Highland Mixe / Sayula Popoluca.\n",
      "RANDOM CORRESPONDENCE CALCULATION:  50%|█████     | 25/50.0 [00:06<00:06,  3.67it/s]2016-11-08 13:45:58,321 [INFO] Calculating random alignments for pair North Highland Mixe / Soteapan Zoque.\n",
      "RANDOM CORRESPONDENCE CALCULATION:  52%|█████▏    | 26/50.0 [00:07<00:06,  3.81it/s]2016-11-08 13:45:58,560 [INFO] Calculating random alignments for pair North Highland Mixe / South Highland Mixe.\n",
      "RANDOM CORRESPONDENCE CALCULATION:  54%|█████▍    | 27/50.0 [00:07<00:05,  3.86it/s]2016-11-08 13:45:58,811 [INFO] Calculating random alignments for pair North Highland Mixe / Texistepec Zoque.\n",
      "RANDOM CORRESPONDENCE CALCULATION:  56%|█████▌    | 28/50.0 [00:07<00:06,  3.61it/s]2016-11-08 13:45:59,130 [INFO] Calculating random alignments for pair Oluta Popoluca / Oluta Popoluca.\n",
      "RANDOM CORRESPONDENCE CALCULATION:  58%|█████▊    | 29/50.0 [00:08<00:06,  3.31it/s]2016-11-08 13:45:59,490 [INFO] Calculating random alignments for pair Oluta Popoluca / San Miguel Chimalapa Zoque.\n",
      "RANDOM CORRESPONDENCE CALCULATION:  60%|██████    | 30/50.0 [00:08<00:06,  3.25it/s]2016-11-08 13:45:59,813 [INFO] Calculating random alignments for pair Oluta Popoluca / Santa María Chimalapa Zoque.\n",
      "RANDOM CORRESPONDENCE CALCULATION:  62%|██████▏   | 31/50.0 [00:08<00:05,  3.31it/s]2016-11-08 13:46:00,101 [INFO] Calculating random alignments for pair Oluta Popoluca / Sayula Popoluca.\n",
      "RANDOM CORRESPONDENCE CALCULATION:  64%|██████▍   | 32/50.0 [00:08<00:05,  3.45it/s]2016-11-08 13:46:00,362 [INFO] Calculating random alignments for pair Oluta Popoluca / Soteapan Zoque.\n",
      "RANDOM CORRESPONDENCE CALCULATION:  66%|██████▌   | 33/50.0 [00:09<00:04,  3.49it/s]2016-11-08 13:46:00,641 [INFO] Calculating random alignments for pair Oluta Popoluca / South Highland Mixe.\n",
      "RANDOM CORRESPONDENCE CALCULATION:  68%|██████▊   | 34/50.0 [00:09<00:04,  3.55it/s]2016-11-08 13:46:00,911 [INFO] Calculating random alignments for pair Oluta Popoluca / Texistepec Zoque.\n",
      "RANDOM CORRESPONDENCE CALCULATION:  70%|███████   | 35/50.0 [00:09<00:04,  3.33it/s]2016-11-08 13:46:01,254 [INFO] Calculating random alignments for pair San Miguel Chimalapa Zoque / San Miguel Chimalapa Zoque.\n",
      "RANDOM CORRESPONDENCE CALCULATION:  72%|███████▏  | 36/50.0 [00:10<00:04,  3.06it/s]2016-11-08 13:46:01,643 [INFO] Calculating random alignments for pair San Miguel Chimalapa Zoque / Santa María Chimalapa Zoque.\n",
      "RANDOM CORRESPONDENCE CALCULATION:  74%|███████▍  | 37/50.0 [00:10<00:04,  3.10it/s]2016-11-08 13:46:01,955 [INFO] Calculating random alignments for pair San Miguel Chimalapa Zoque / Sayula Popoluca.\n",
      "RANDOM CORRESPONDENCE CALCULATION:  76%|███████▌  | 38/50.0 [00:10<00:03,  3.19it/s]2016-11-08 13:46:02,246 [INFO] Calculating random alignments for pair San Miguel Chimalapa Zoque / Soteapan Zoque.\n",
      "RANDOM CORRESPONDENCE CALCULATION:  78%|███████▊  | 39/50.0 [00:11<00:03,  3.31it/s]2016-11-08 13:46:02,523 [INFO] Calculating random alignments for pair San Miguel Chimalapa Zoque / South Highland Mixe.\n",
      "RANDOM CORRESPONDENCE CALCULATION:  80%|████████  | 40/50.0 [00:11<00:02,  3.41it/s]2016-11-08 13:46:02,796 [INFO] Calculating random alignments for pair San Miguel Chimalapa Zoque / Texistepec Zoque.\n",
      "RANDOM CORRESPONDENCE CALCULATION:  82%|████████▏ | 41/50.0 [00:11<00:02,  3.37it/s]2016-11-08 13:46:03,102 [INFO] Calculating random alignments for pair Santa María Chimalapa Zoque / Santa María Chimalapa Zoque.\n",
      "RANDOM CORRESPONDENCE CALCULATION:  84%|████████▍ | 42/50.0 [00:12<00:02,  3.28it/s]2016-11-08 13:46:03,425 [INFO] Calculating random alignments for pair Santa María Chimalapa Zoque / Sayula Popoluca.\n",
      "RANDOM CORRESPONDENCE CALCULATION:  86%|████████▌ | 43/50.0 [00:12<00:02,  3.43it/s]2016-11-08 13:46:03,686 [INFO] Calculating random alignments for pair Santa María Chimalapa Zoque / Soteapan Zoque.\n",
      "RANDOM CORRESPONDENCE CALCULATION:  88%|████████▊ | 44/50.0 [00:12<00:01,  3.47it/s]2016-11-08 13:46:03,965 [INFO] Calculating random alignments for pair Santa María Chimalapa Zoque / South Highland Mixe.\n",
      "RANDOM CORRESPONDENCE CALCULATION:  90%|█████████ | 45/50.0 [00:12<00:01,  3.47it/s]2016-11-08 13:46:04,253 [INFO] Calculating random alignments for pair Santa María Chimalapa Zoque / Texistepec Zoque.\n",
      "RANDOM CORRESPONDENCE CALCULATION:  92%|█████████▏| 46/50.0 [00:13<00:01,  3.45it/s]2016-11-08 13:46:04,547 [INFO] Calculating random alignments for pair Sayula Popoluca / Sayula Popoluca.\n",
      "RANDOM CORRESPONDENCE CALCULATION:  94%|█████████▍| 47/50.0 [00:13<00:00,  3.49it/s]2016-11-08 13:46:04,827 [INFO] Calculating random alignments for pair Sayula Popoluca / Soteapan Zoque.\n",
      "RANDOM CORRESPONDENCE CALCULATION:  96%|█████████▌| 48/50.0 [00:13<00:00,  3.58it/s]2016-11-08 13:46:05,089 [INFO] Calculating random alignments for pair Sayula Popoluca / South Highland Mixe.\n",
      "RANDOM CORRESPONDENCE CALCULATION:  98%|█████████▊| 49/50.0 [00:13<00:00,  3.74it/s]2016-11-08 13:46:05,328 [INFO] Calculating random alignments for pair Sayula Popoluca / Texistepec Zoque.\n",
      "RANDOM CORRESPONDENCE CALCULATION: 100%|██████████| 50/50.0 [00:14<00:00,  3.72it/s]2016-11-08 13:46:05,600 [INFO] Calculating random alignments for pair Soteapan Zoque / Soteapan Zoque.\n",
      "RANDOM CORRESPONDENCE CALCULATION: 51it [00:14,  3.74it/s]                          2016-11-08 13:46:05,863 [INFO] Calculating random alignments for pair Soteapan Zoque / South Highland Mixe.\n",
      "RANDOM CORRESPONDENCE CALCULATION: 52it [00:14,  3.81it/s]2016-11-08 13:46:06,116 [INFO] Calculating random alignments for pair Soteapan Zoque / Texistepec Zoque.\n",
      "RANDOM CORRESPONDENCE CALCULATION: 53it [00:14,  3.71it/s]2016-11-08 13:46:06,403 [INFO] Calculating random alignments for pair South Highland Mixe / South Highland Mixe.\n",
      "RANDOM CORRESPONDENCE CALCULATION: 54it [00:15,  3.85it/s]2016-11-08 13:46:06,640 [INFO] Calculating random alignments for pair South Highland Mixe / Texistepec Zoque.\n",
      "RANDOM CORRESPONDENCE CALCULATION: 55it [00:15,  3.72it/s]2016-11-08 13:46:06,929 [INFO] Calculating random alignments for pair Texistepec Zoque / Texistepec Zoque.\n",
      "SEQUENCE CLUSTERING:   0%|          | 0/110 [00:00<?, ?it/s]2016-11-08 13:46:07,471 [INFO] Analyzing words for concept <I>.\n",
      "2016-11-08 13:46:07,487 [INFO] Analyzing words for concept <all>.\n",
      "2016-11-08 13:46:07,530 [INFO] Analyzing words for concept <ashes>.\n",
      "2016-11-08 13:46:07,571 [INFO] Analyzing words for concept <bark>.\n",
      "SEQUENCE CLUSTERING:   4%|▎         | 4/110 [00:00<00:03, 33.01it/s]2016-11-08 13:46:07,593 [INFO] Analyzing words for concept <belly>.\n",
      "2016-11-08 13:46:07,614 [INFO] Analyzing words for concept <big>.\n",
      "2016-11-08 13:46:07,636 [INFO] Analyzing words for concept <bird>.\n",
      "2016-11-08 13:46:07,656 [INFO] Analyzing words for concept <bite>.\n",
      "2016-11-08 13:46:07,676 [INFO] Analyzing words for concept <black>.\n",
      "SEQUENCE CLUSTERING:   8%|▊         | 9/110 [00:00<00:02, 36.66it/s]2016-11-08 13:46:07,695 [INFO] Analyzing words for concept <blood>.\n",
      "2016-11-08 13:46:07,719 [INFO] Analyzing words for concept <bone>.\n",
      "2016-11-08 13:46:07,730 [INFO] Analyzing words for concept <breast>.\n",
      "2016-11-08 13:46:07,744 [INFO] Analyzing words for concept <burn tr.>.\n",
      "2016-11-08 13:46:07,761 [INFO] Analyzing words for concept <claw (nail)>.\n",
      "2016-11-08 13:46:07,780 [INFO] Analyzing words for concept <cloud>.\n",
      "SEQUENCE CLUSTERING:  14%|█▎        | 15/110 [00:00<00:02, 41.09it/s]2016-11-08 13:46:07,799 [INFO] Analyzing words for concept <cold>.\n",
      "2016-11-08 13:46:07,813 [INFO] Analyzing words for concept <come>.\n",
      "2016-11-08 13:46:07,823 [INFO] Analyzing words for concept <die>.\n",
      "2016-11-08 13:46:07,836 [INFO] Analyzing words for concept <dog>.\n",
      "2016-11-08 13:46:07,851 [INFO] Analyzing words for concept <drink>.\n",
      "2016-11-08 13:46:07,863 [INFO] Analyzing words for concept <dry>.\n",
      "SEQUENCE CLUSTERING:  19%|█▉        | 21/110 [00:00<00:01, 44.76it/s]2016-11-08 13:46:07,906 [INFO] Analyzing words for concept <ear>.\n",
      "2016-11-08 13:46:07,940 [INFO] Analyzing words for concept <earth>.\n",
      "2016-11-08 13:46:07,961 [INFO] Analyzing words for concept <eat>.\n",
      "2016-11-08 13:46:07,981 [INFO] Analyzing words for concept <egg>.\n",
      "2016-11-08 13:46:07,996 [INFO] Analyzing words for concept <eye>.\n",
      "SEQUENCE CLUSTERING:  24%|██▎       | 26/110 [00:00<00:01, 44.97it/s]2016-11-08 13:46:08,015 [INFO] Analyzing words for concept <far>.\n",
      "2016-11-08 13:46:08,041 [INFO] Analyzing words for concept <fat n.>.\n",
      "2016-11-08 13:46:08,057 [INFO] Analyzing words for concept <feather>.\n",
      "2016-11-08 13:46:08,070 [INFO] Analyzing words for concept <fire>.\n",
      "2016-11-08 13:46:08,091 [INFO] Analyzing words for concept <fish>.\n",
      "2016-11-08 13:46:08,106 [INFO] Analyzing words for concept <fly v.>.\n",
      "SEQUENCE CLUSTERING:  29%|██▉       | 32/110 [00:00<00:01, 47.52it/s]2016-11-08 13:46:08,125 [INFO] Analyzing words for concept <foot>.\n",
      "2016-11-08 13:46:08,146 [INFO] Analyzing words for concept <full>.\n",
      "2016-11-08 13:46:08,174 [INFO] Analyzing words for concept <give>.\n",
      "2016-11-08 13:46:08,185 [INFO] Analyzing words for concept <good>.\n",
      "2016-11-08 13:46:08,193 [INFO] Analyzing words for concept <green>.\n",
      "2016-11-08 13:46:08,208 [INFO] Analyzing words for concept <hair>.\n",
      "2016-11-08 13:46:08,221 [INFO] Analyzing words for concept <hand>.\n",
      "SEQUENCE CLUSTERING:  35%|███▌      | 39/110 [00:00<00:01, 51.60it/s]2016-11-08 13:46:08,233 [INFO] Analyzing words for concept <head>.\n",
      "2016-11-08 13:46:08,252 [INFO] Analyzing words for concept <hear>.\n",
      "2016-11-08 13:46:08,271 [INFO] Analyzing words for concept <heart>.\n",
      "2016-11-08 13:46:08,294 [INFO] Analyzing words for concept <heavy>.\n",
      "2016-11-08 13:46:08,314 [INFO] Analyzing words for concept <horn>.\n",
      "2016-11-08 13:46:08,321 [INFO] Analyzing words for concept <kill>.\n",
      "SEQUENCE CLUSTERING:  41%|████      | 45/110 [00:00<00:01, 51.42it/s]2016-11-08 13:46:08,351 [INFO] Analyzing words for concept <knee>.\n",
      "2016-11-08 13:46:08,369 [INFO] Analyzing words for concept <know>.\n",
      "2016-11-08 13:46:08,382 [INFO] Analyzing words for concept <leaf>.\n",
      "2016-11-08 13:46:08,390 [INFO] Analyzing words for concept <lie>.\n",
      "2016-11-08 13:46:08,411 [INFO] Analyzing words for concept <liver>.\n",
      "2016-11-08 13:46:08,429 [INFO] Analyzing words for concept <long>.\n",
      "2016-11-08 13:46:08,446 [INFO] Analyzing words for concept <louse>.\n",
      "SEQUENCE CLUSTERING:  47%|████▋     | 52/110 [00:00<00:01, 54.58it/s]2016-11-08 13:46:08,461 [INFO] Analyzing words for concept <man>.\n",
      "2016-11-08 13:46:08,480 [INFO] Analyzing words for concept <many>.\n",
      "2016-11-08 13:46:08,494 [INFO] Analyzing words for concept <meat>.\n",
      "2016-11-08 13:46:08,510 [INFO] Analyzing words for concept <moon>.\n",
      "2016-11-08 13:46:08,523 [INFO] Analyzing words for concept <mountain>.\n",
      "2016-11-08 13:46:08,538 [INFO] Analyzing words for concept <mouth>.\n",
      "2016-11-08 13:46:08,547 [INFO] Analyzing words for concept <name>.\n",
      "2016-11-08 13:46:08,558 [INFO] Analyzing words for concept <near>.\n",
      "SEQUENCE CLUSTERING:  55%|█████▍    | 60/110 [00:01<00:00, 58.17it/s]2016-11-08 13:46:08,577 [INFO] Analyzing words for concept <neck>.\n",
      "2016-11-08 13:46:08,588 [INFO] Analyzing words for concept <new>.\n",
      "2016-11-08 13:46:08,605 [INFO] Analyzing words for concept <night>.\n",
      "2016-11-08 13:46:08,618 [INFO] Analyzing words for concept <nose>.\n",
      "2016-11-08 13:46:08,634 [INFO] Analyzing words for concept <not>.\n",
      "2016-11-08 13:46:08,649 [INFO] Analyzing words for concept <one>.\n",
      "2016-11-08 13:46:08,660 [INFO] Analyzing words for concept <person>.\n",
      "2016-11-08 13:46:08,670 [INFO] Analyzing words for concept <rain>.\n",
      "SEQUENCE CLUSTERING:  62%|██████▏   | 68/110 [00:01<00:00, 63.19it/s]2016-11-08 13:46:08,679 [INFO] Analyzing words for concept <red>.\n",
      "2016-11-08 13:46:08,701 [INFO] Analyzing words for concept <road>.\n",
      "2016-11-08 13:46:08,711 [INFO] Analyzing words for concept <root>.\n",
      "2016-11-08 13:46:08,729 [INFO] Analyzing words for concept <round>.\n",
      "2016-11-08 13:46:08,737 [INFO] Analyzing words for concept <salt>.\n",
      "2016-11-08 13:46:08,749 [INFO] Analyzing words for concept <sand>.\n",
      "2016-11-08 13:46:08,762 [INFO] Analyzing words for concept <say>.\n",
      "2016-11-08 13:46:08,776 [INFO] Analyzing words for concept <see>.\n",
      "SEQUENCE CLUSTERING:  69%|██████▉   | 76/110 [00:01<00:00, 66.20it/s]2016-11-08 13:46:08,786 [INFO] Analyzing words for concept <seed>.\n",
      "2016-11-08 13:46:08,796 [INFO] Analyzing words for concept <short>.\n",
      "2016-11-08 13:46:08,808 [INFO] Analyzing words for concept <sit>.\n",
      "2016-11-08 13:46:08,821 [INFO] Analyzing words for concept <skin>.\n",
      "2016-11-08 13:46:08,833 [INFO] Analyzing words for concept <sleep>.\n",
      "2016-11-08 13:46:08,843 [INFO] Analyzing words for concept <small>.\n",
      "2016-11-08 13:46:08,858 [INFO] Analyzing words for concept <smoke>.\n",
      "2016-11-08 13:46:08,873 [INFO] Analyzing words for concept <snake>.\n",
      "SEQUENCE CLUSTERING:  76%|███████▋  | 84/110 [00:01<00:00, 68.92it/s]2016-11-08 13:46:08,891 [INFO] Analyzing words for concept <stand>.\n",
      "2016-11-08 13:46:08,912 [INFO] Analyzing words for concept <star>.\n",
      "2016-11-08 13:46:08,932 [INFO] Analyzing words for concept <stone>.\n",
      "2016-11-08 13:46:08,942 [INFO] Analyzing words for concept <sun>.\n",
      "2016-11-08 13:46:08,954 [INFO] Analyzing words for concept <swim>.\n",
      "2016-11-08 13:46:08,968 [INFO] Analyzing words for concept <tail>.\n",
      "2016-11-08 13:46:08,984 [INFO] Analyzing words for concept <that>.\n",
      "2016-11-08 13:46:08,994 [INFO] Analyzing words for concept <thin>.\n",
      "SEQUENCE CLUSTERING:  84%|████████▎ | 92/110 [00:01<00:00, 68.32it/s]2016-11-08 13:46:09,010 [INFO] Analyzing words for concept <this>.\n",
      "2016-11-08 13:46:09,028 [INFO] Analyzing words for concept <thou>.\n",
      "2016-11-08 13:46:09,042 [INFO] Analyzing words for concept <tongue>.\n",
      "2016-11-08 13:46:09,054 [INFO] Analyzing words for concept <tooth>.\n",
      "2016-11-08 13:46:09,066 [INFO] Analyzing words for concept <tree>.\n",
      "2016-11-08 13:46:09,076 [INFO] Analyzing words for concept <two>.\n",
      "2016-11-08 13:46:09,100 [INFO] Analyzing words for concept <walk/go>.\n",
      "SEQUENCE CLUSTERING:  90%|█████████ | 99/110 [00:01<00:00, 67.24it/s]2016-11-08 13:46:09,118 [INFO] Analyzing words for concept <warm>.\n",
      "2016-11-08 13:46:09,126 [INFO] Analyzing words for concept <water>.\n",
      "2016-11-08 13:46:09,134 [INFO] Analyzing words for concept <we>.\n",
      "2016-11-08 13:46:09,151 [INFO] Analyzing words for concept <what>.\n",
      "2016-11-08 13:46:09,158 [INFO] Analyzing words for concept <white>.\n",
      "2016-11-08 13:46:09,173 [INFO] Analyzing words for concept <who>.\n",
      "2016-11-08 13:46:09,185 [INFO] Analyzing words for concept <wind>.\n",
      "2016-11-08 13:46:09,195 [INFO] Analyzing words for concept <woman>.\n",
      "SEQUENCE CLUSTERING:  97%|█████████▋| 107/110 [00:01<00:00, 69.59it/s]2016-11-08 13:46:09,224 [INFO] Analyzing words for concept <worm>.\n",
      "2016-11-08 13:46:09,248 [INFO] Analyzing words for concept <year>.\n",
      "2016-11-08 13:46:09,266 [INFO] Analyzing words for concept <yellow>.\n"
     ]
    }
   ],
   "source": [
    "lex.get_scorer(runs=1000)\n",
    "lex.cluster(method=\"lexstat\", ref=\"lexstat\", threshold=0.65)"
   ]
  },
  {
   "cell_type": "markdown",
   "metadata": {},
   "source": [
    "Now we can test how well the automatic cognate detection performed, by comparing the content in the column \"cognacy\" (default name for cognate sets in CLDF) with the content in the column \"lexstat\", using LingPy's bcubes-function."
   ]
  },
  {
   "cell_type": "code",
   "execution_count": 6,
   "metadata": {
    "collapsed": false
   },
   "outputs": [
    {
     "name": "stdout",
     "output_type": "stream",
     "text": [
      "*************************\n",
      "* B-Cubed-Scores        *\n",
      "* --------------------- *\n",
      "* Precision:     0.9498 *\n",
      "* Recall:        0.8532 *\n",
      "* F-Scores:      0.8989 *\n",
      "*************************'\n"
     ]
    }
   ],
   "source": [
    "a, b, c = bcubes(lex, 'cognacy', 'lexstat', pprint=True)"
   ]
  },
  {
   "cell_type": "markdown",
   "metadata": {},
   "source": [
    "Wow, our precision is quite high, which is good, as it means there are not many false positives. Recall could be improved, but we should be happy with almost 90%, given the small size of the wordlist."
   ]
  }
 ],
 "metadata": {
  "kernelspec": {
   "display_name": "Python 2",
   "language": "python",
   "name": "python2"
  },
  "language_info": {
   "codemirror_mode": {
    "name": "ipython",
    "version": 2.0
   },
   "file_extension": ".py",
   "mimetype": "text/x-python",
   "name": "python",
   "nbconvert_exporter": "python",
   "pygments_lexer": "ipython2",
   "version": "2.7.6"
  }
 },
 "nbformat": 4,
 "nbformat_minor": 0
}